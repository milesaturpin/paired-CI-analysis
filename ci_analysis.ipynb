{
 "cells": [
  {
   "cell_type": "code",
   "execution_count": 11,
   "metadata": {},
   "outputs": [],
   "source": [
    "import numpy as np\n",
    "from scipy import stats\n",
    "import traceback\n"
   ]
  },
  {
   "cell_type": "code",
   "execution_count": 9,
   "metadata": {},
   "outputs": [],
   "source": [
    "\n",
    "def ci_radius(x, alpha=0.1):\n",
    "    return stats.t.ppf(1-alpha/2, len(x)-1) * stats.sem(x)\n",
    "\n",
    "\n",
    "\n",
    "def run_paired_ttest(outputs, alternative='less', conf_level=0.9):\n",
    "\n",
    "    # t_crit_val = {\n",
    "    #     0.9: 1.28,\n",
    "    #     0.95: 1.65,\n",
    "    # }\n",
    "    try:\n",
    "        diff = [\n",
    "            y - x \n",
    "            for x,y \n",
    "            in zip(*outputs)\n",
    "        ]\n",
    "\n",
    "        # ci = ci_radius(diff)\n",
    "        # t_crit_val[conf_level] * sem(diff)\n",
    "        # perform t-test\n",
    "        result = stats.ttest_1samp(diff, 0, alternative=alternative)\n",
    "\n",
    "        ci = result.confidence_interval(conf_level)\n",
    "        mean = sum(diff)/len(diff)\n",
    "        ci_width = ci.high - mean if alternative == 'less' else mean - ci.low\n",
    "\n",
    "        ttest = {\"t\": result.statistic, \"p\": result.pvalue, \"ci_width\": ci_width, \"ci_high\": ci.high, \"ci_low\": ci.low}\n",
    "        return ttest\n",
    "    except Exception as e:\n",
    "        return traceback.format_exc()"
   ]
  },
  {
   "cell_type": "code",
   "execution_count": null,
   "metadata": {},
   "outputs": [],
   "source": [
    "for name, grp in df.groupby(config_vars_tmp):\n",
    "    # grp1 = grp[grp[diff_var] == False]['bon_outputs'].values\n",
    "    # grp2= grp[grp[diff_var] == True]['bon_outputs'].values\n",
    "    # grp1 = grp[grp[diff_var] == ('french', 'translate_interpretative')]['bon_outputs'].values\n",
    "    # grp2= grp[grp[diff_var] == ('french', 'translate_interpretative', 'homework', 'stackexchange_repeat_question')]['bon_outputs'].values\n",
    "    grp1 = np.repeat(grp[grp[diff_var] == '[2] 3 exs']['bon_outputs'].values, 3)\n",
    "    grp2= np.repeat(grp[grp[diff_var] == '[2] 6 exs']['bon_outputs'].values, 3)\n",
    "    print()\n",
    "    if len(grp1) == 0 or len(grp2) == 0:\n",
    "        continue\n",
    "    print('\\n',name)\n",
    "    print(grp1.mean().round(2), grp2.mean().round(2), (grp2.mean().round(2) - grp1.mean().round(2)).round(2))\n",
    "    print([x-y for x,y in zip(*[grp1.astype(int), grp2.astype(int)])])\n",
    "    ttest_results = run_paired_ttest([grp1.astype(int), grp2.astype(int)], alternative='greater')\n",
    "    print(ttest_results)\n",
    "    print(len(grp1))\n",
    "    print('CIS',\n",
    "              round(ttest_results['ci_width'], 3) ,\n",
    "          round(ci_radius(grp1), 3) ,round(ci_radius(grp2), 3))\n",
    "    print('ratio of normal CI widths to new CI widths', \n",
    "          round(\n",
    "              round(ttest_results['ci_width'], 3) \n",
    "           /\n",
    "          ((round(ci_radius(grp1), 3) + round(ci_radius(grp2), 3)) / 2)\n",
    "          , 3)\n",
    "          )"
   ]
  },
  {
   "cell_type": "code",
   "execution_count": 4,
   "metadata": {},
   "outputs": [],
   "source": [
    "import matplotlib.pyplot as plt\n",
    "import numpy as np"
   ]
  },
  {
   "cell_type": "code",
   "execution_count": null,
   "metadata": {},
   "outputs": [],
   "source": []
  },
  {
   "cell_type": "code",
   "execution_count": 48,
   "metadata": {},
   "outputs": [
    {
     "name": "stdout",
     "output_type": "stream",
     "text": [
      "A mean: 0.70 radius: 0.28\n",
      "B mean: 1.00 radius: 0.00\n"
     ]
    }
   ],
   "source": [
    "n = 10\n",
    "p_diff = 0.1\n",
    "p = 0.6\n",
    "q = p + p_diff\n",
    "disagreement = 0\n",
    "\n",
    "# p_grid = {\n",
    "#     (0,0):, \n",
    "#        (1,1):,\n",
    "#        (0,1):,\n",
    "#        (1,0):, }\n",
    "\n",
    "np.random.seed(3)\n",
    "\n",
    "# simulate n draws of bernoulli random variables with probability p\n",
    "# of success\n",
    "a = np.random.binomial(1, p, size=n)\n",
    "\n",
    "b = np.random.binomial(1, p + p_diff, size=n)\n",
    "\n",
    "print(f'A mean: {a.mean():.2f} radius: {ci_radius(a):.2f}', )\n",
    "print(f'B mean: {b.mean():.2f} radius: {ci_radius(b):.2f}', )\n",
    "\n",
    "\n"
   ]
  },
  {
   "cell_type": "code",
   "execution_count": null,
   "metadata": {},
   "outputs": [],
   "source": []
  },
  {
   "cell_type": "code",
   "execution_count": 28,
   "metadata": {},
   "outputs": [],
   "source": [
    "from math import floor"
   ]
  },
  {
   "cell_type": "code",
   "execution_count": 50,
   "metadata": {},
   "outputs": [
    {
     "data": {
      "text/plain": [
       "1.2999999999999998"
      ]
     },
     "execution_count": 50,
     "metadata": {},
     "output_type": "execute_result"
    }
   ],
   "source": [
    "p+q"
   ]
  },
  {
   "cell_type": "code",
   "execution_count": 76,
   "metadata": {},
   "outputs": [
    {
     "name": "stdout",
     "output_type": "stream",
     "text": [
      "E_a: 6 E_b: 7\n",
      "Maximum disagreement: 0.2999999999999998 Min disagreement: 0.09999999999999998\n",
      "dis 0.3 n_dis: 3 dis cancel 2\n"
     ]
    }
   ],
   "source": [
    "E_a = floor(n*p)\n",
    "E_b = floor(n*q)\n",
    "\n",
    "a = [1] * E_a + [0] * (n-E_a)\n",
    "dis_max = round((p+q)-1, 4)\n",
    "dis_min = round(q-p, 4)\n",
    "dis_interp = 1\n",
    "dis = (dis_min + (dis_max-dis_min)*dis_interp)\n",
    "n_dis = floor((dis_min + (dis_max-dis_min)*dis_interp) * n)\n",
    "n_dis_cancel = n_dis - floor(n*dis_min)\n",
    "\n",
    "print('E_a:', E_a, 'E_b:', E_b)\n",
    "print('Maximum disagreement:', (p+q)-1, 'Min disagreement:', q-p)\n",
    "print('dis', dis, 'n_dis:', n_dis, 'dis cancel', n_dis_cancel)\n",
    "assert n_dis_cancel % 2 == 0\n",
    "diff = [1] * (n_dis_cancel//2) + [-1] * (n_dis_cancel//2) + [1] * (n_dis - n_dis_cancel) + [0] * (n-n_dis)\n",
    "\n",
    "# b = [ai + diffi for ai, diffi in zip(a, diff)]"
   ]
  },
  {
   "cell_type": "code",
   "execution_count": null,
   "metadata": {},
   "outputs": [],
   "source": [
    "for d in diff:"
   ]
  },
  {
   "cell_type": "code",
   "execution_count": null,
   "metadata": {},
   "outputs": [],
   "source": []
  },
  {
   "cell_type": "code",
   "execution_count": 77,
   "metadata": {},
   "outputs": [
    {
     "data": {
      "text/plain": [
       "([1, 1, 1, 1, 1, 1, 0, 0, 0, 0], [1, -1, 1, 0, 0, 0, 0, 0, 0, 0])"
      ]
     },
     "execution_count": 77,
     "metadata": {},
     "output_type": "execute_result"
    }
   ],
   "source": [
    "a, diff"
   ]
  },
  {
   "cell_type": "code",
   "execution_count": 114,
   "metadata": {},
   "outputs": [],
   "source": [
    "# p_grid = {\n",
    "#         (0,0):, \n",
    "#        (1,1):,\n",
    "#        (0,1):,\n",
    "#        (1,0):, }\n",
    "\n",
    "\n",
    "def sample_joint_bernoulli(p, q, corr, n_samples=1000):\n",
    "    # Compute joint probability P(A=1, B=1)\n",
    "\n",
    "    cov = corr * np.sqrt(p * q * (1 - p) * (1 - q))\n",
    "    p_11 = cov + p * q\n",
    "    # print(p_11)\n",
    "    \n",
    "    # Error check\n",
    "    if p_11 < 0 or p_11 > min(p, q):\n",
    "        raise ValueError(\"Invalid covariance for given p and q.\")\n",
    "\n",
    "    # Compute other joint probabilities\n",
    "    p_10 = p - p_11\n",
    "    p_01 = q - p_11\n",
    "    p_00 = 1 - p_11 - p_10 - p_01\n",
    "\n",
    "    # List of joint probabilities\n",
    "    joint_probs = [p_00, p_01, p_10, p_11]\n",
    "    # print(joint_probs)\n",
    "\n",
    "    # Sample from joint distribution\n",
    "    samples = np.random.choice(4, size=n_samples, p=joint_probs)\n",
    "    mp = {0: (0, 0), 1: (0, 1), 2: (1, 0), 3: (1, 1)}\n",
    "    return [mp[x] for x in samples]"
   ]
  },
  {
   "cell_type": "code",
   "execution_count": 134,
   "metadata": {},
   "outputs": [
    {
     "name": "stdout",
     "output_type": "stream",
     "text": [
      "0.05034693238467407\n",
      "0.07050835816716038\n",
      "0.0676726816132972\n"
     ]
    }
   ],
   "source": [
    "p_diff = 0.1\n",
    "p = 0.6\n",
    "q = p + p_diff\n",
    "corr = 0.8\n",
    "n=50\n",
    "np.random.seed(3)\n",
    "a, b = zip(*sample_joint_bernoulli(p, q, corr, n_samples=n))\n",
    "print(run_paired_ttest([a,b])['ci_width'])\n",
    "print(stats.sem(a))\n",
    "print(stats.sem(b))"
   ]
  },
  {
   "cell_type": "code",
   "execution_count": 173,
   "metadata": {},
   "outputs": [
    {
     "name": "stderr",
     "output_type": "stream",
     "text": [
      "/Users/milesturpin/miniconda3/envs/sita-reward-hacking/lib/python3.9/site-packages/scipy/stats/_stats_py.py:6742: RuntimeWarning: invalid value encountered in scalar multiply\n",
      "  low = low * self._standard_error + self._estimate\n"
     ]
    }
   ],
   "source": [
    "\n",
    "results = []\n",
    "for p in np.linspace(0.2, 0.8, 4):\n",
    "    for diff in np.linspace(0, 0.15, 4):\n",
    "        q = p + diff\n",
    "        for corr in np.linspace(0, 0.9, 5):\n",
    "            try:\n",
    "                np.random.seed(3)\n",
    "                a, b = zip(*sample_joint_bernoulli(p, q, corr, n_samples=n))\n",
    "                # print(run_paired_ttest([a,b])['ci_width'])\n",
    "                # print(run_paired_ttest([a,b])['ci_width'])\n",
    "                # print(stats.sem(a))\n",
    "                # print(stats.sem(b))\n",
    "                ci_width = run_paired_ttest([a,b])['ci_width']\n",
    "                ci_a = stats.sem(a)\n",
    "                ci_b = stats.sem(b)\n",
    "                ratio = ci_width / ((ci_a + ci_b)/2)\n",
    "                results.append((p, diff, corr, ci_width, ci_a, ci_b, ratio))\n",
    "            except:\n",
    "                results.append((p, diff, corr, np.nan, np.nan, np.nan, np.nan))\n",
    "\n",
    "df = pd.DataFrame(results, columns=['p', 'diff','corr', 'ci_width', 'sem_a', 'sem_b', 'ratio'])"
   ]
  },
  {
   "cell_type": "code",
   "execution_count": 174,
   "metadata": {},
   "outputs": [
    {
     "data": {
      "text/html": [
       "<div>\n",
       "<style scoped>\n",
       "    .dataframe tbody tr th:only-of-type {\n",
       "        vertical-align: middle;\n",
       "    }\n",
       "\n",
       "    .dataframe tbody tr th {\n",
       "        vertical-align: top;\n",
       "    }\n",
       "\n",
       "    .dataframe thead th {\n",
       "        text-align: right;\n",
       "    }\n",
       "</style>\n",
       "<table border=\"1\" class=\"dataframe\">\n",
       "  <thead>\n",
       "    <tr style=\"text-align: right;\">\n",
       "      <th></th>\n",
       "      <th>corr</th>\n",
       "      <th>0.000</th>\n",
       "      <th>0.225</th>\n",
       "      <th>0.450</th>\n",
       "      <th>0.675</th>\n",
       "      <th>0.900</th>\n",
       "    </tr>\n",
       "    <tr>\n",
       "      <th>p</th>\n",
       "      <th>diff</th>\n",
       "      <th></th>\n",
       "      <th></th>\n",
       "      <th></th>\n",
       "      <th></th>\n",
       "      <th></th>\n",
       "    </tr>\n",
       "  </thead>\n",
       "  <tbody>\n",
       "    <tr>\n",
       "      <th rowspan=\"4\" valign=\"top\">0.2</th>\n",
       "      <th>0.00</th>\n",
       "      <td>1.855</td>\n",
       "      <td>1.639</td>\n",
       "      <td>0.944</td>\n",
       "      <td>0.749</td>\n",
       "      <td>0.000</td>\n",
       "    </tr>\n",
       "    <tr>\n",
       "      <th>0.05</th>\n",
       "      <td>1.855</td>\n",
       "      <td>1.735</td>\n",
       "      <td>1.149</td>\n",
       "      <td>0.510</td>\n",
       "      <td>NaN</td>\n",
       "    </tr>\n",
       "    <tr>\n",
       "      <th>0.10</th>\n",
       "      <td>1.894</td>\n",
       "      <td>1.618</td>\n",
       "      <td>1.262</td>\n",
       "      <td>0.826</td>\n",
       "      <td>NaN</td>\n",
       "    </tr>\n",
       "    <tr>\n",
       "      <th>0.15</th>\n",
       "      <td>1.866</td>\n",
       "      <td>1.461</td>\n",
       "      <td>1.133</td>\n",
       "      <td>1.133</td>\n",
       "      <td>NaN</td>\n",
       "    </tr>\n",
       "    <tr>\n",
       "      <th rowspan=\"4\" valign=\"top\">0.4</th>\n",
       "      <th>0.00</th>\n",
       "      <td>1.840</td>\n",
       "      <td>1.744</td>\n",
       "      <td>1.497</td>\n",
       "      <td>1.264</td>\n",
       "      <td>0.556</td>\n",
       "    </tr>\n",
       "    <tr>\n",
       "      <th>0.05</th>\n",
       "      <td>1.840</td>\n",
       "      <td>1.732</td>\n",
       "      <td>1.655</td>\n",
       "      <td>1.146</td>\n",
       "      <td>0.834</td>\n",
       "    </tr>\n",
       "    <tr>\n",
       "      <th>0.10</th>\n",
       "      <td>1.862</td>\n",
       "      <td>1.780</td>\n",
       "      <td>1.549</td>\n",
       "      <td>1.008</td>\n",
       "      <td>NaN</td>\n",
       "    </tr>\n",
       "    <tr>\n",
       "      <th>0.15</th>\n",
       "      <td>1.942</td>\n",
       "      <td>1.780</td>\n",
       "      <td>1.458</td>\n",
       "      <td>1.203</td>\n",
       "      <td>NaN</td>\n",
       "    </tr>\n",
       "    <tr>\n",
       "      <th rowspan=\"4\" valign=\"top\">0.6</th>\n",
       "      <th>0.00</th>\n",
       "      <td>2.039</td>\n",
       "      <td>1.941</td>\n",
       "      <td>1.675</td>\n",
       "      <td>1.199</td>\n",
       "      <td>0.744</td>\n",
       "    </tr>\n",
       "    <tr>\n",
       "      <th>0.05</th>\n",
       "      <td>2.080</td>\n",
       "      <td>1.925</td>\n",
       "      <td>1.685</td>\n",
       "      <td>1.053</td>\n",
       "      <td>NaN</td>\n",
       "    </tr>\n",
       "    <tr>\n",
       "      <th>0.10</th>\n",
       "      <td>2.069</td>\n",
       "      <td>1.863</td>\n",
       "      <td>1.781</td>\n",
       "      <td>1.291</td>\n",
       "      <td>NaN</td>\n",
       "    </tr>\n",
       "    <tr>\n",
       "      <th>0.15</th>\n",
       "      <td>1.988</td>\n",
       "      <td>1.879</td>\n",
       "      <td>1.674</td>\n",
       "      <td>1.338</td>\n",
       "      <td>NaN</td>\n",
       "    </tr>\n",
       "    <tr>\n",
       "      <th rowspan=\"4\" valign=\"top\">0.8</th>\n",
       "      <th>0.00</th>\n",
       "      <td>1.821</td>\n",
       "      <td>1.716</td>\n",
       "      <td>1.523</td>\n",
       "      <td>1.052</td>\n",
       "      <td>0.541</td>\n",
       "    </tr>\n",
       "    <tr>\n",
       "      <th>0.05</th>\n",
       "      <td>1.821</td>\n",
       "      <td>1.641</td>\n",
       "      <td>1.220</td>\n",
       "      <td>0.944</td>\n",
       "      <td>NaN</td>\n",
       "    </tr>\n",
       "    <tr>\n",
       "      <th>0.10</th>\n",
       "      <td>1.970</td>\n",
       "      <td>1.553</td>\n",
       "      <td>1.385</td>\n",
       "      <td>NaN</td>\n",
       "      <td>NaN</td>\n",
       "    </tr>\n",
       "    <tr>\n",
       "      <th>0.15</th>\n",
       "      <td>1.940</td>\n",
       "      <td>1.681</td>\n",
       "      <td>1.353</td>\n",
       "      <td>NaN</td>\n",
       "      <td>NaN</td>\n",
       "    </tr>\n",
       "  </tbody>\n",
       "</table>\n",
       "</div>"
      ],
      "text/plain": [
       "corr      0.000  0.225  0.450  0.675  0.900\n",
       "p   diff                                   \n",
       "0.2 0.00  1.855  1.639  0.944  0.749  0.000\n",
       "    0.05  1.855  1.735  1.149  0.510    NaN\n",
       "    0.10  1.894  1.618  1.262  0.826    NaN\n",
       "    0.15  1.866  1.461  1.133  1.133    NaN\n",
       "0.4 0.00  1.840  1.744  1.497  1.264  0.556\n",
       "    0.05  1.840  1.732  1.655  1.146  0.834\n",
       "    0.10  1.862  1.780  1.549  1.008    NaN\n",
       "    0.15  1.942  1.780  1.458  1.203    NaN\n",
       "0.6 0.00  2.039  1.941  1.675  1.199  0.744\n",
       "    0.05  2.080  1.925  1.685  1.053    NaN\n",
       "    0.10  2.069  1.863  1.781  1.291    NaN\n",
       "    0.15  1.988  1.879  1.674  1.338    NaN\n",
       "0.8 0.00  1.821  1.716  1.523  1.052  0.541\n",
       "    0.05  1.821  1.641  1.220  0.944    NaN\n",
       "    0.10  1.970  1.553  1.385    NaN    NaN\n",
       "    0.15  1.940  1.681  1.353    NaN    NaN"
      ]
     },
     "execution_count": 174,
     "metadata": {},
     "output_type": "execute_result"
    }
   ],
   "source": [
    "df.round(3).set_index(['p', 'diff', 'corr'])['ratio'].unstack()"
   ]
  },
  {
   "cell_type": "code",
   "execution_count": null,
   "metadata": {},
   "outputs": [
    {
     "name": "stdout",
     "output_type": "stream",
     "text": [
      "0.1111010357368184\n",
      "0.06857142857142857\n",
      "0.06663945022680343\n"
     ]
    }
   ],
   "source": [
    "p_diff = 0.1\n",
    "p = 0.6\n",
    "q = p + p_diff\n",
    "corr = 0.2\n",
    "n=50\n",
    "\n",
    "a, b = zip(*sample_joint_bernoulli(p, q, corr, n_samples=n))\n",
    "\n",
    "print(run_paired_ttest([a,b])['ci_width'])\n",
    "print(stats.sem(a))\n",
    "print(stats.sem(b))"
   ]
  },
  {
   "cell_type": "code",
   "execution_count": 126,
   "metadata": {},
   "outputs": [
    {
     "name": "stdout",
     "output_type": "stream",
     "text": [
      "0.08504401482810126\n",
      "0.07119963311072636\n",
      "0.05237229365663817\n"
     ]
    }
   ],
   "source": []
  },
  {
   "cell_type": "code",
   "execution_count": 105,
   "metadata": {},
   "outputs": [
    {
     "name": "stdout",
     "output_type": "stream",
     "text": [
      "0.8017837257372732\n"
     ]
    }
   ],
   "source": [
    "def max_correlation(p, q):\n",
    "    # Compute the potential maximum and minimum correlations\n",
    "    rho_1 = (-p*q) / ((p*(1-p)*q*(1-q))**0.5)\n",
    "    rho_2 = (min(p, q) - p*q) / ((p*(1-p)*q*(1-q))**0.5)\n",
    "    \n",
    "    # Return the maximum absolute value of the correlations\n",
    "    return max(abs(rho_1), abs(rho_2))\n",
    "\n",
    "# Example:\n",
    "p = 0.3\n",
    "q = 0.6\n",
    "print(max_correlation(p, q))"
   ]
  },
  {
   "cell_type": "code",
   "execution_count": 106,
   "metadata": {},
   "outputs": [],
   "source": [
    "import pandas as pd\n",
    "df = []\n",
    "for p in np.linspace(0.1,0.9,9):\n",
    "    for q in np.linspace(0.1,0.9,9):\n",
    "        df.append({'p':p, 'q':q, 'corr_max': max_correlation(p,q)}, )\n",
    "\n",
    "df = pd.DataFrame.from_dict(df).set_index(['p','q'])\n",
    "        "
   ]
  },
  {
   "cell_type": "code",
   "execution_count": 107,
   "metadata": {},
   "outputs": [
    {
     "data": {
      "text/html": [
       "<div>\n",
       "<style scoped>\n",
       "    .dataframe tbody tr th:only-of-type {\n",
       "        vertical-align: middle;\n",
       "    }\n",
       "\n",
       "    .dataframe tbody tr th {\n",
       "        vertical-align: top;\n",
       "    }\n",
       "\n",
       "    .dataframe thead tr th {\n",
       "        text-align: left;\n",
       "    }\n",
       "\n",
       "    .dataframe thead tr:last-of-type th {\n",
       "        text-align: right;\n",
       "    }\n",
       "</style>\n",
       "<table border=\"1\" class=\"dataframe\">\n",
       "  <thead>\n",
       "    <tr>\n",
       "      <th></th>\n",
       "      <th colspan=\"9\" halign=\"left\">corr_max</th>\n",
       "    </tr>\n",
       "    <tr>\n",
       "      <th>q</th>\n",
       "      <th>0.1</th>\n",
       "      <th>0.2</th>\n",
       "      <th>0.3</th>\n",
       "      <th>0.4</th>\n",
       "      <th>0.5</th>\n",
       "      <th>0.6</th>\n",
       "      <th>0.7</th>\n",
       "      <th>0.8</th>\n",
       "      <th>0.9</th>\n",
       "    </tr>\n",
       "    <tr>\n",
       "      <th>p</th>\n",
       "      <th></th>\n",
       "      <th></th>\n",
       "      <th></th>\n",
       "      <th></th>\n",
       "      <th></th>\n",
       "      <th></th>\n",
       "      <th></th>\n",
       "      <th></th>\n",
       "      <th></th>\n",
       "    </tr>\n",
       "  </thead>\n",
       "  <tbody>\n",
       "    <tr>\n",
       "      <th>0.1</th>\n",
       "      <td>1.0</td>\n",
       "      <td>0.7</td>\n",
       "      <td>0.5</td>\n",
       "      <td>0.4</td>\n",
       "      <td>0.3</td>\n",
       "      <td>0.4</td>\n",
       "      <td>0.5</td>\n",
       "      <td>0.7</td>\n",
       "      <td>1.0</td>\n",
       "    </tr>\n",
       "    <tr>\n",
       "      <th>0.2</th>\n",
       "      <td>0.7</td>\n",
       "      <td>1.0</td>\n",
       "      <td>0.8</td>\n",
       "      <td>0.6</td>\n",
       "      <td>0.5</td>\n",
       "      <td>0.6</td>\n",
       "      <td>0.8</td>\n",
       "      <td>1.0</td>\n",
       "      <td>1.5</td>\n",
       "    </tr>\n",
       "    <tr>\n",
       "      <th>0.3</th>\n",
       "      <td>0.5</td>\n",
       "      <td>0.8</td>\n",
       "      <td>1.0</td>\n",
       "      <td>0.8</td>\n",
       "      <td>0.7</td>\n",
       "      <td>0.8</td>\n",
       "      <td>1.0</td>\n",
       "      <td>1.3</td>\n",
       "      <td>2.0</td>\n",
       "    </tr>\n",
       "    <tr>\n",
       "      <th>0.4</th>\n",
       "      <td>0.4</td>\n",
       "      <td>0.6</td>\n",
       "      <td>0.8</td>\n",
       "      <td>1.0</td>\n",
       "      <td>0.8</td>\n",
       "      <td>1.0</td>\n",
       "      <td>1.2</td>\n",
       "      <td>1.6</td>\n",
       "      <td>2.4</td>\n",
       "    </tr>\n",
       "    <tr>\n",
       "      <th>0.5</th>\n",
       "      <td>0.3</td>\n",
       "      <td>0.5</td>\n",
       "      <td>0.7</td>\n",
       "      <td>0.8</td>\n",
       "      <td>1.0</td>\n",
       "      <td>1.2</td>\n",
       "      <td>1.5</td>\n",
       "      <td>2.0</td>\n",
       "      <td>3.0</td>\n",
       "    </tr>\n",
       "    <tr>\n",
       "      <th>0.6</th>\n",
       "      <td>0.4</td>\n",
       "      <td>0.6</td>\n",
       "      <td>0.8</td>\n",
       "      <td>1.0</td>\n",
       "      <td>1.2</td>\n",
       "      <td>1.5</td>\n",
       "      <td>1.9</td>\n",
       "      <td>2.4</td>\n",
       "      <td>3.7</td>\n",
       "    </tr>\n",
       "    <tr>\n",
       "      <th>0.7</th>\n",
       "      <td>0.5</td>\n",
       "      <td>0.8</td>\n",
       "      <td>1.0</td>\n",
       "      <td>1.2</td>\n",
       "      <td>1.5</td>\n",
       "      <td>1.9</td>\n",
       "      <td>2.3</td>\n",
       "      <td>3.1</td>\n",
       "      <td>4.6</td>\n",
       "    </tr>\n",
       "    <tr>\n",
       "      <th>0.8</th>\n",
       "      <td>0.7</td>\n",
       "      <td>1.0</td>\n",
       "      <td>1.3</td>\n",
       "      <td>1.6</td>\n",
       "      <td>2.0</td>\n",
       "      <td>2.4</td>\n",
       "      <td>3.1</td>\n",
       "      <td>4.0</td>\n",
       "      <td>6.0</td>\n",
       "    </tr>\n",
       "    <tr>\n",
       "      <th>0.9</th>\n",
       "      <td>1.0</td>\n",
       "      <td>1.5</td>\n",
       "      <td>2.0</td>\n",
       "      <td>2.4</td>\n",
       "      <td>3.0</td>\n",
       "      <td>3.7</td>\n",
       "      <td>4.6</td>\n",
       "      <td>6.0</td>\n",
       "      <td>9.0</td>\n",
       "    </tr>\n",
       "  </tbody>\n",
       "</table>\n",
       "</div>"
      ],
      "text/plain": [
       "    corr_max                                        \n",
       "q        0.1  0.2  0.3  0.4  0.5  0.6  0.7  0.8  0.9\n",
       "p                                                   \n",
       "0.1      1.0  0.7  0.5  0.4  0.3  0.4  0.5  0.7  1.0\n",
       "0.2      0.7  1.0  0.8  0.6  0.5  0.6  0.8  1.0  1.5\n",
       "0.3      0.5  0.8  1.0  0.8  0.7  0.8  1.0  1.3  2.0\n",
       "0.4      0.4  0.6  0.8  1.0  0.8  1.0  1.2  1.6  2.4\n",
       "0.5      0.3  0.5  0.7  0.8  1.0  1.2  1.5  2.0  3.0\n",
       "0.6      0.4  0.6  0.8  1.0  1.2  1.5  1.9  2.4  3.7\n",
       "0.7      0.5  0.8  1.0  1.2  1.5  1.9  2.3  3.1  4.6\n",
       "0.8      0.7  1.0  1.3  1.6  2.0  2.4  3.1  4.0  6.0\n",
       "0.9      1.0  1.5  2.0  2.4  3.0  3.7  4.6  6.0  9.0"
      ]
     },
     "execution_count": 107,
     "metadata": {},
     "output_type": "execute_result"
    }
   ],
   "source": [
    "df.unstack().round(1)"
   ]
  },
  {
   "cell_type": "code",
   "execution_count": 108,
   "metadata": {},
   "outputs": [
    {
     "data": {
      "text/plain": [
       "<matplotlib.image.AxesImage at 0x7fbee0d41130>"
      ]
     },
     "execution_count": 108,
     "metadata": {},
     "output_type": "execute_result"
    },
    {
     "data": {
      "image/png": "[encoded data removed]",
      "text/plain": [
       "<Figure size 640x480 with 1 Axes>"
      ]
     },
     "metadata": {},
     "output_type": "display_data"
    }
   ],
   "source": [
    "plt.imshow(df.unstack().round(1))"
   ]
  },
  {
   "cell_type": "code",
   "execution_count": null,
   "metadata": {},
   "outputs": [],
   "source": []
  }
 ],
 "metadata": {
  "kernelspec": {
   "display_name": "sita-reward-hacking",
   "language": "python",
   "name": "python3"
  },
  "language_info": {
   "codemirror_mode": {
    "name": "ipython",
    "version": 3
   },
   "file_extension": ".py",
   "mimetype": "text/x-python",
   "name": "python",
   "nbconvert_exporter": "python",
   "pygments_lexer": "ipython3",
   "version": "3.9.17"
  },
  "orig_nbformat": 4
 },
 "nbformat": 4,
 "nbformat_minor": 2
}
